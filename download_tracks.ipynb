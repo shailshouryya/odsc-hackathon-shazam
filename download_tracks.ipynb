{
 "cells": [
  {
   "cell_type": "markdown",
   "source": [
    "# Convert CSV into .txt"
   ],
   "metadata": {
    "collapsed": false
   },
   "id": "d4415fef6a32b34e"
  },
  {
   "cell_type": "code",
   "execution_count": 2,
   "outputs": [],
   "source": [
    "import pandas as pd\n",
    "\n",
    "df = pd.read_csv('data/Drake_reverse_chronological_videos_list.csv')\n",
    "\n",
    "# Write out only the \"url\" column to a text file without the index or header\n",
    "df['Video URL'].to_csv('data/urls.txt', index=False, header=False)\n"
   ],
   "metadata": {
    "collapsed": false,
    "ExecuteTime": {
     "end_time": "2023-10-31T19:13:30.512091Z",
     "start_time": "2023-10-31T19:13:30.503351Z"
    }
   },
   "id": "8663c2d9ab1ca9a0"
  },
  {
   "cell_type": "code",
   "execution_count": null,
   "outputs": [],
   "source": [],
   "metadata": {
    "collapsed": false
   },
   "id": "63f9c7adb49627bf"
  }
 ],
 "metadata": {
  "kernelspec": {
   "display_name": "Python 3",
   "language": "python",
   "name": "python3"
  },
  "language_info": {
   "codemirror_mode": {
    "name": "ipython",
    "version": 2
   },
   "file_extension": ".py",
   "mimetype": "text/x-python",
   "name": "python",
   "nbconvert_exporter": "python",
   "pygments_lexer": "ipython2",
   "version": "2.7.6"
  }
 },
 "nbformat": 4,
 "nbformat_minor": 5
}
